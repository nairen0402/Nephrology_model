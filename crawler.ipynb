{
 "cells": [
  {
   "cell_type": "markdown",
   "id": "82ed4b65",
   "metadata": {},
   "source": [
    "## 安裝套件"
   ]
  },
  {
   "cell_type": "code",
   "execution_count": null,
   "id": "06804ea4",
   "metadata": {},
   "outputs": [],
   "source": [
    "pip install requests beautifulsoup4\n",
    "pip install PyPDF2\n",
    "pip install readability-lxml\n"
   ]
  },
  {
   "cell_type": "markdown",
   "id": "e18f96e2",
   "metadata": {},
   "source": [
    "## 測試網站能否爬取以及資料型態"
   ]
  },
  {
   "cell_type": "code",
   "execution_count": null,
   "id": "ca2a412f",
   "metadata": {},
   "outputs": [],
   "source": [
    "import requests\n",
    "from bs4 import BeautifulSoup\n",
    "\n",
    "url = \"https://www.hch.gov.tw/?aid=626&pid=8&page_name=sub_list&type=0&pageNo=1\"\n",
    "headers = {\"User-Agent\": \"Mozilla/5.0\"}\n",
    "\n",
    "res = requests.get(url, headers=headers)\n",
    "print(res.text[:])"
   ]
  },
  {
   "cell_type": "markdown",
   "id": "d96757e7",
   "metadata": {},
   "source": [
    "## 爬蟲主程式"
   ]
  },
  {
   "cell_type": "code",
   "execution_count": null,
   "id": "414ea152",
   "metadata": {},
   "outputs": [],
   "source": [
    "import requests\n",
    "from bs4 import BeautifulSoup\n",
    "import pandas as pd\n",
    "import time\n",
    "import os\n",
    "import re\n",
    "from requests.exceptions import RequestException\n",
    "\n",
    "# 建立資料夾儲存檔案\n",
    "os.makedirs(\"articles_csv\", exist_ok=True)\n",
    "\n",
    "base_url = \"https://www.bh.ntuh.gov.tw/\"\n",
    "list_url = \"https://www.bh.ntuh.gov.tw/?aid=509&pid=6&page_name=sub_list&pageNo=1\"\n",
    "headers = {\"User-Agent\": \"Mozilla/5.0\"}\n",
    "\n",
    "def safe_request(url, headers, max_retries=3, timeout=15):\n",
    "    \"\"\"帶重試的 requests.get\"\"\"\n",
    "    for attempt in range(max_retries):\n",
    "        try:\n",
    "            res = requests.get(url, headers=headers, timeout=timeout)\n",
    "            res.raise_for_status()\n",
    "            return res\n",
    "        except RequestException as e:\n",
    "            print(f\"請求失敗（{e}），第 {attempt+1} 次重試...\")\n",
    "            time.sleep(3)\n",
    "    return None\n",
    "\n",
    "# 取得列表頁\n",
    "res = safe_request(list_url, headers)\n",
    "if res is None:\n",
    "    print(\"無法取得列表頁，程式結束。\")\n",
    "    exit()\n",
    "\n",
    "soup = BeautifulSoup(res.text, \"html.parser\")\n",
    "\n",
    "for index, row in enumerate(soup.select(\"tr\"), start=1):\n",
    "    a_tag = row.select_one(\"a[title]\")\n",
    "\n",
    "    if a_tag:\n",
    "        title = a_tag.get_text(strip=True)\n",
    "        relative_link = a_tag[\"href\"]\n",
    "        full_link = base_url + relative_link if relative_link.startswith(\"/\") else relative_link\n",
    "\n",
    "        # 取得文章內容（加重試）\n",
    "        article_res = safe_request(full_link, headers)\n",
    "        if article_res is None:\n",
    "            print(f\"無法取得文章：{full_link}\")\n",
    "            continue\n",
    "\n",
    "        article_soup = BeautifulSoup(article_res.text, \"html.parser\")\n",
    "        p_tags = article_soup.select(\"p\")\n",
    "        content = \"\\n\".join(p.get_text(strip=True) for p in p_tags) if p_tags else \"找不到內容\"\n",
    "\n",
    "        # 檔名處理：移除非法字元\n",
    "        safe_title = re.sub(r'[\\\\/*?:\"<>|]', \"\", title)\n",
    "        filename = f\"articles_csv/{index}_{safe_title}.csv\"\n",
    "\n",
    "        # 存成單一 csv\n",
    "        df = pd.DataFrame([{\n",
    "            \"title\": title,\n",
    "            \"url\": full_link,\n",
    "            \"content\": content\n",
    "        }])\n",
    "        df.to_csv(filename, encoding=\"utf-8-sig\", index=False)\n",
    "\n",
    "        print(f\"已儲存：{filename}\")\n",
    "        time.sleep(5)\n"
   ]
  }
 ],
 "metadata": {
  "kernelspec": {
   "display_name": "Python 3",
   "language": "python",
   "name": "python3"
  },
  "language_info": {
   "codemirror_mode": {
    "name": "ipython",
    "version": 3
   },
   "file_extension": ".py",
   "mimetype": "text/x-python",
   "name": "python",
   "nbconvert_exporter": "python",
   "pygments_lexer": "ipython3",
   "version": "3.12.6"
  }
 },
 "nbformat": 4,
 "nbformat_minor": 5
}
