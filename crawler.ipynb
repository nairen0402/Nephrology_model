{
 "cells": [
  {
   "cell_type": "markdown",
   "id": "82ed4b65",
   "metadata": {},
   "source": [
    "## 安裝套件"
   ]
  },
  {
   "cell_type": "code",
   "execution_count": null,
   "id": "06804ea4",
   "metadata": {},
   "outputs": [],
   "source": [
    "pip install requests beautifulsoup4"
   ]
  },
  {
   "cell_type": "markdown",
   "id": "e18f96e2",
   "metadata": {},
   "source": [
    "## 測試網站能否爬取以及資料型態"
   ]
  },
  {
   "cell_type": "code",
   "execution_count": null,
   "id": "ca2a412f",
   "metadata": {},
   "outputs": [],
   "source": [
    "import requests\n",
    "from bs4 import BeautifulSoup\n",
    "\n",
    "url = \"https://www.hch.gov.tw/?aid=626&pid=8&page_name=sub_list&type=0&pageNo=1\"\n",
    "headers = {\"User-Agent\": \"Mozilla/5.0\"}\n",
    "\n",
    "res = requests.get(url, headers=headers)\n",
    "print(res.text[:])"
   ]
  },
  {
   "cell_type": "markdown",
   "id": "d96757e7",
   "metadata": {},
   "source": [
    "## 爬蟲主程式"
   ]
  },
  {
   "cell_type": "code",
   "execution_count": 9,
   "id": "414ea152",
   "metadata": {},
   "outputs": [
    {
     "name": "stdout",
     "output_type": "stream",
     "text": [
      "已儲存：articles_csv/2_透析居家照護與社會資源.csv\n",
      "已儲存：articles_csv/3_血液透析中常見症狀.csv\n",
      "已儲存：articles_csv/4_動靜脈瘻管的照護.csv\n",
      "已儲存：articles_csv/5_動靜脈瘻管相關問題與併發症.csv\n",
      "已儲存：articles_csv/6_血鉀過高.csv\n",
      "已儲存：articles_csv/7_認識血液透析相關藥物.csv\n",
      "已儲存：articles_csv/8_認識透析檢驗值.csv\n",
      "已儲存：articles_csv/9_血液透析病人的運動.csv\n",
      "已儲存：articles_csv/10_慢性腎衰竭的治療.csv\n",
      "已儲存：articles_csv/11_腎臟與腎衰竭衛教須知.csv\n"
     ]
    }
   ],
   "source": [
    "import requests\n",
    "from bs4 import BeautifulSoup\n",
    "import pandas as pd\n",
    "import time\n",
    "import os\n",
    "import re\n",
    "\n",
    "# 建立資料夾儲存檔案\n",
    "os.makedirs(\"articles_csv\", exist_ok=True)\n",
    "\n",
    "base_url = \"https://www.kln.mohw.gov.tw/\"\n",
    "list_url = \"https://www.kln.mohw.gov.tw/?aid=509&pid=114&page_name=sub_list\"\n",
    "headers = {\"User-Agent\": \"Mozilla/5.0\"}\n",
    "\n",
    "res = requests.get(list_url, headers=headers)\n",
    "soup = BeautifulSoup(res.text, \"html.parser\")\n",
    "\n",
    "for index, row in enumerate(soup.select(\"tr\"), start=1):\n",
    "    a_tag = row.select_one(\"a[title]\")\n",
    "\n",
    "    if a_tag:\n",
    "        title = a_tag.get_text(strip=True)\n",
    "        relative_link = a_tag[\"href\"]\n",
    "        full_link = base_url + relative_link if relative_link.startswith(\"/\") else relative_link\n",
    "\n",
    "\n",
    "        # 取得文章內容\n",
    "        article_res = requests.get(full_link, headers=headers)\n",
    "        article_soup = BeautifulSoup(article_res.text, \"html.parser\")\n",
    "        p_tags = article_soup.select(\"p\")\n",
    "        content = \"\\n\".join(p.get_text(strip=True) for p in p_tags) if p_tags else \"找不到內容\"\n",
    "\n",
    "        # 檔名處理：移除非法字元\n",
    "        safe_title = re.sub(r'[\\\\/*?:\"<>|]', \"\", title)\n",
    "        filename = f\"articles_csv/{index}_{safe_title}.csv\"\n",
    "\n",
    "        # 存成單一 csv\n",
    "        df = pd.DataFrame([{\n",
    "            \"title\": title,\n",
    "            \"url\": full_link,\n",
    "            \"content\": content\n",
    "        }])\n",
    "        df.to_csv(filename, encoding=\"utf-8-sig\", index=False)\n",
    "\n",
    "        print(f\"已儲存：{filename}\")\n",
    "\n",
    "        time.sleep(5) \n"
   ]
  }
 ],
 "metadata": {
  "kernelspec": {
   "display_name": "Python 3",
   "language": "python",
   "name": "python3"
  },
  "language_info": {
   "codemirror_mode": {
    "name": "ipython",
    "version": 3
   },
   "file_extension": ".py",
   "mimetype": "text/x-python",
   "name": "python",
   "nbconvert_exporter": "python",
   "pygments_lexer": "ipython3",
   "version": "3.12.6"
  }
 },
 "nbformat": 4,
 "nbformat_minor": 5
}
